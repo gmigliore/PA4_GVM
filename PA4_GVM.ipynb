{
 "cells": [
  {
   "cell_type": "markdown",
   "id": "0793a1a0",
   "metadata": {},
   "source": [
    "## PA4  \n",
    "## Gabriel Migliore  \n",
    "### Python 3  \n",
    "### Fall 2021"
   ]
  },
  {
   "cell_type": "code",
   "execution_count": 24,
   "id": "9fd8f49f",
   "metadata": {},
   "outputs": [
    {
     "name": "stdout",
     "output_type": "stream",
     "text": [
      "[35, 23, 2, 68, 34, 68, 56, 15]\n"
     ]
    }
   ],
   "source": [
    "lists=[35,23,2,68,34,68,56,15]\n",
    "print(lists)"
   ]
  },
  {
   "cell_type": "code",
   "execution_count": 25,
   "id": "96e8e991",
   "metadata": {},
   "outputs": [
    {
     "name": "stdout",
     "output_type": "stream",
     "text": [
      "[35, 23, 2, 68, 34, 68, 56, 15, 2]\n"
     ]
    }
   ],
   "source": [
    "lists.append(2)\n",
    "print(lists)"
   ]
  },
  {
   "cell_type": "markdown",
   "id": "c2cc6b44",
   "metadata": {},
   "source": [
    "When append() is used, it adds the number in the parenthesis to the end of the list."
   ]
  },
  {
   "cell_type": "code",
   "execution_count": 26,
   "id": "f72985fe",
   "metadata": {},
   "outputs": [
    {
     "name": "stdout",
     "output_type": "stream",
     "text": [
      "[35, 23, 2, 68, 34, 68, 56, 15, 2, 25, 12, 29]\n"
     ]
    }
   ],
   "source": [
    "extendlist=25,12,29\n",
    "lists.extend(extendlist)\n",
    "print(lists)"
   ]
  },
  {
   "cell_type": "markdown",
   "id": "32ebb790",
   "metadata": {},
   "source": [
    "When extend() is used, it adds another list to the end of a selected lsit."
   ]
  },
  {
   "cell_type": "code",
   "execution_count": 27,
   "id": "878a9493",
   "metadata": {},
   "outputs": [
    {
     "name": "stdout",
     "output_type": "stream",
     "text": [
      "[35, 23, 2, 68, 34, 68, 56, 15, 5, 2, 25, 12, 29]\n"
     ]
    }
   ],
   "source": [
    "lists.insert(8,5)\n",
    "print(lists)"
   ]
  },
  {
   "cell_type": "markdown",
   "id": "f0f256aa",
   "metadata": {},
   "source": [
    "The insert() command adds the 2nd number to the 1st numbers position. Above I inserted \"5\" to the 9th position."
   ]
  },
  {
   "cell_type": "code",
   "execution_count": 28,
   "id": "e5268961",
   "metadata": {},
   "outputs": [
    {
     "name": "stdout",
     "output_type": "stream",
     "text": [
      "[35, 23, 2, 68, 34, 68, 56, 15, 2, 25, 12, 29]\n"
     ]
    }
   ],
   "source": [
    "lists.remove(5)\n",
    "print(lists)"
   ]
  },
  {
   "cell_type": "markdown",
   "id": "a4608fc1",
   "metadata": {},
   "source": [
    "The remove() command removes the selected value from the list."
   ]
  },
  {
   "cell_type": "code",
   "execution_count": 29,
   "id": "356cc8c8",
   "metadata": {},
   "outputs": [
    {
     "data": {
      "text/plain": [
       "2"
      ]
     },
     "execution_count": 29,
     "metadata": {},
     "output_type": "execute_result"
    }
   ],
   "source": [
    "lists.count(2)"
   ]
  },
  {
   "cell_type": "markdown",
   "id": "ff050947",
   "metadata": {},
   "source": [
    "count() tells the total number of the slected value."
   ]
  },
  {
   "cell_type": "code",
   "execution_count": 30,
   "id": "3b821f6a",
   "metadata": {},
   "outputs": [
    {
     "data": {
      "text/plain": [
       "3"
      ]
     },
     "execution_count": 30,
     "metadata": {},
     "output_type": "execute_result"
    }
   ],
   "source": [
    "lists.index(68)"
   ]
  },
  {
   "cell_type": "markdown",
   "id": "c4549fc5",
   "metadata": {},
   "source": [
    "index() tells the position of a certain value in a list."
   ]
  },
  {
   "cell_type": "code",
   "execution_count": 31,
   "id": "6d959527",
   "metadata": {},
   "outputs": [
    {
     "name": "stdout",
     "output_type": "stream",
     "text": [
      "[35, 23, 2, 34, 68, 56, 15, 2, 25, 12, 29]\n"
     ]
    }
   ],
   "source": [
    "lists.pop(3)\n",
    "print(lists)"
   ]
  },
  {
   "cell_type": "markdown",
   "id": "54ab3a7a",
   "metadata": {},
   "source": [
    "pop() removes the value at the selected spot in a list"
   ]
  },
  {
   "cell_type": "code",
   "execution_count": 32,
   "id": "40e8a887",
   "metadata": {},
   "outputs": [
    {
     "name": "stdout",
     "output_type": "stream",
     "text": [
      "[2, 2, 12, 15, 23, 25, 29, 34, 35, 56, 68]\n"
     ]
    }
   ],
   "source": [
    "lists.sort()\n",
    "print(lists)"
   ]
  },
  {
   "cell_type": "markdown",
   "id": "8b863440",
   "metadata": {},
   "source": [
    "sort() organizes the list, in the case above, from lowest to highest."
   ]
  },
  {
   "cell_type": "code",
   "execution_count": 33,
   "id": "dbd86702",
   "metadata": {},
   "outputs": [
    {
     "name": "stdout",
     "output_type": "stream",
     "text": [
      "[2, 2, 12, 15, 23, 25, 29, 34, 35, 56, 68]\n"
     ]
    }
   ],
   "source": [
    "newlist=lists.copy()\n",
    "print(newlist)"
   ]
  },
  {
   "cell_type": "markdown",
   "id": "17ee54ad",
   "metadata": {},
   "source": [
    "copy() makes a shallow copy of a list, this basically means that if you modify the original list, then newlist is also modified."
   ]
  },
  {
   "cell_type": "code",
   "execution_count": 34,
   "id": "c9addcda",
   "metadata": {},
   "outputs": [
    {
     "name": "stdout",
     "output_type": "stream",
     "text": [
      "[]\n"
     ]
    }
   ],
   "source": [
    "lists.clear()\n",
    "print(lists)"
   ]
  },
  {
   "cell_type": "markdown",
   "id": "ab8b3de8",
   "metadata": {},
   "source": [
    "clear() clears the list of all values."
   ]
  },
  {
   "cell_type": "code",
   "execution_count": 7,
   "id": "af5c28a7",
   "metadata": {},
   "outputs": [
    {
     "name": "stdout",
     "output_type": "stream",
     "text": [
      "True\n"
     ]
    }
   ],
   "source": [
    "lists=[25,51,67,83,12,43]\n",
    "print(any(lists))"
   ]
  },
  {
   "cell_type": "markdown",
   "id": "8a0eb445",
   "metadata": {},
   "source": [
    "any() finds if anything in the list is a iterable item is in the selected value"
   ]
  },
  {
   "cell_type": "code",
   "execution_count": 36,
   "id": "02da5db5",
   "metadata": {},
   "outputs": [
    {
     "name": "stdout",
     "output_type": "stream",
     "text": [
      "25\n",
      "51\n",
      "67\n",
      "83\n",
      "43\n"
     ]
    }
   ],
   "source": [
    "def myFunc(x):\n",
    "    if x<18:\n",
    "        return False\n",
    "    else:\n",
    "        return True\n",
    "adults=filter(myFunc,lists)\n",
    "for x in adults:\n",
    "    print(x)"
   ]
  },
  {
   "cell_type": "markdown",
   "id": "e22dfdcb",
   "metadata": {},
   "source": [
    "filter() returns a value where a filter is used to determine if a value is true or not"
   ]
  },
  {
   "cell_type": "code",
   "execution_count": 5,
   "id": "ac8a7e87",
   "metadata": {},
   "outputs": [
    {
     "name": "stdout",
     "output_type": "stream",
     "text": [
      "['a', 'e', 'i', 'o', 'u']\n"
     ]
    }
   ],
   "source": [
    "vowels='aeiou'\n",
    "print(list(vowels))"
   ]
  },
  {
   "cell_type": "markdown",
   "id": "adae6f46",
   "metadata": {},
   "source": [
    "list() creates list out of already given values"
   ]
  },
  {
   "cell_type": "code",
   "execution_count": 14,
   "id": "88ec32f2",
   "metadata": {},
   "outputs": [
    {
     "data": {
      "text/plain": [
       "[9, 12, 13]"
      ]
     },
     "execution_count": 14,
     "metadata": {},
     "output_type": "execute_result"
    }
   ],
   "source": [
    "cow_ages=[1,2,5,7,8,9,12,13]\n",
    "def cow(x):\n",
    "        if x>8:\n",
    "            return x\n",
    "list(filter(cow,cow_ages))"
   ]
  },
  {
   "cell_type": "markdown",
   "id": "6e862c01",
   "metadata": {},
   "source": [
    "filter() filters out unwanted values from the list"
   ]
  },
  {
   "cell_type": "code",
   "execution_count": 15,
   "id": "983a2194",
   "metadata": {
    "scrolled": false
   },
   "outputs": [
    {
     "data": {
      "text/plain": [
       "[None, None, None, None, None, 9, 12, 13]"
      ]
     },
     "execution_count": 15,
     "metadata": {},
     "output_type": "execute_result"
    }
   ],
   "source": [
    "list(map(cow,cow_ages))"
   ]
  },
  {
   "cell_type": "markdown",
   "id": "04410a24",
   "metadata": {},
   "source": [
    "map() keeps the values in place but replaces them with None to represent that they did not pass the filter"
   ]
  },
  {
   "cell_type": "code",
   "execution_count": 18,
   "id": "db5524bb",
   "metadata": {
    "scrolled": true
   },
   "outputs": [
    {
     "data": {
      "text/plain": [
       "1"
      ]
     },
     "execution_count": 18,
     "metadata": {},
     "output_type": "execute_result"
    }
   ],
   "source": [
    "def cmp(a,b):\n",
    "        if a>b:\n",
    "            return 1\n",
    "        elif b>a:\n",
    "            return -1\n",
    "        else:\n",
    "            return 0\n",
    "cmp(25,12)"
   ]
  },
  {
   "cell_type": "markdown",
   "id": "faf9e272",
   "metadata": {},
   "source": [
    "cmp() compares two integers to see if a greater then statement it met, tied, or not met"
   ]
  },
  {
   "cell_type": "code",
   "execution_count": 24,
   "id": "ef130713",
   "metadata": {},
   "outputs": [
    {
     "data": {
      "text/plain": [
       "5"
      ]
     },
     "execution_count": 24,
     "metadata": {},
     "output_type": "execute_result"
    }
   ],
   "source": [
    "melons=[8,0,0,8,5]\n",
    "len(melons)"
   ]
  },
  {
   "cell_type": "markdown",
   "id": "6f185dba",
   "metadata": {},
   "source": [
    "len() returns length of tuple"
   ]
  },
  {
   "cell_type": "code",
   "execution_count": 25,
   "id": "27329e5f",
   "metadata": {},
   "outputs": [
    {
     "data": {
      "text/plain": [
       "8"
      ]
     },
     "execution_count": 25,
     "metadata": {},
     "output_type": "execute_result"
    }
   ],
   "source": [
    "max(melons)"
   ]
  },
  {
   "cell_type": "raw",
   "id": "80a940dc",
   "metadata": {},
   "source": [
    "max() returns the highest number in the tuple"
   ]
  },
  {
   "cell_type": "code",
   "execution_count": 28,
   "id": "06aea047",
   "metadata": {},
   "outputs": [
    {
     "data": {
      "text/plain": [
       "(25, 50, 75, 66, 11, 3, 34)"
      ]
     },
     "execution_count": 28,
     "metadata": {},
     "output_type": "execute_result"
    }
   ],
   "source": [
    "numbers=[25,50,75,66,11,3,34]\n",
    "tuple_numbers=tuple(numbers)\n",
    "tuple_numbers"
   ]
  },
  {
   "cell_type": "markdown",
   "id": "c0b948b7",
   "metadata": {},
   "source": [
    "tuple() turns a tuple into a list"
   ]
  },
  {
   "cell_type": "code",
   "execution_count": null,
   "id": "5b8945f2",
   "metadata": {},
   "outputs": [],
   "source": []
  }
 ],
 "metadata": {
  "kernelspec": {
   "display_name": "Python 3",
   "language": "python",
   "name": "python3"
  },
  "language_info": {
   "codemirror_mode": {
    "name": "ipython",
    "version": 3
   },
   "file_extension": ".py",
   "mimetype": "text/x-python",
   "name": "python",
   "nbconvert_exporter": "python",
   "pygments_lexer": "ipython3",
   "version": "3.8.8"
  }
 },
 "nbformat": 4,
 "nbformat_minor": 5
}
